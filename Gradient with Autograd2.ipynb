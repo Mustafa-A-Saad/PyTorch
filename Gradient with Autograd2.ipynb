{
 "cells": [
  {
   "cell_type": "markdown",
   "id": "3b89073d",
   "metadata": {},
   "source": [
    "# Manually Linear Regression PyTorch"
   ]
  },
  {
   "cell_type": "code",
   "execution_count": 3,
   "id": "f94562b0",
   "metadata": {},
   "outputs": [],
   "source": [
    "import numpy as np"
   ]
  },
  {
   "cell_type": "code",
   "execution_count": 4,
   "id": "edef1a08",
   "metadata": {},
   "outputs": [],
   "source": [
    "# f = w*x + b\n",
    "# f = 2*x + 0"
   ]
  },
  {
   "cell_type": "code",
   "execution_count": 5,
   "id": "8d71b324",
   "metadata": {},
   "outputs": [],
   "source": [
    "X = np.array([1,2,3,4], dtype=np.float32)\n",
    "y = np.array([2,4,6,8],dtype =np.float32) # function"
   ]
  },
  {
   "cell_type": "code",
   "execution_count": 6,
   "id": "0f4cb651",
   "metadata": {},
   "outputs": [],
   "source": [
    "w = 0.0"
   ]
  },
  {
   "cell_type": "code",
   "execution_count": 10,
   "id": "1b860a55",
   "metadata": {},
   "outputs": [],
   "source": [
    "# Model Prediction\n",
    "\n",
    "def forward(x): # foward pass\n",
    "    return w *x"
   ]
  },
  {
   "cell_type": "code",
   "execution_count": 11,
   "id": "f8279178",
   "metadata": {},
   "outputs": [],
   "source": [
    "#loss = MSE\n",
    "def loss(y,y_pred):\n",
    "    return((y_pred-y)**2).mean()"
   ]
  },
  {
   "cell_type": "code",
   "execution_count": 12,
   "id": "74505643",
   "metadata": {},
   "outputs": [
    {
     "name": "stdout",
     "output_type": "stream",
     "text": [
      "Prediction before training: f(5) = 0.000\n"
     ]
    }
   ],
   "source": [
    "# Graident\n",
    "# MSE = 1/N * (w*x-y)**2\n",
    "# dJ/dw = 1N 2x(w*x-y)\n",
    "def gradient(x,y,y_pred):\n",
    "    return np.dot(2*x,y_pred-y).mean() \n",
    "\n",
    "print(f\"Prediction before training: f(5) = {forward(5):.3f}\")"
   ]
  },
  {
   "cell_type": "code",
   "execution_count": 16,
   "id": "f1a517e9",
   "metadata": {},
   "outputs": [
    {
     "name": "stdout",
     "output_type": "stream",
     "text": [
      "epoch 1:w = 1.200,loss = 30.00000000\n",
      "epoch 2:w = 1.680,loss = 4.79999924\n",
      "epoch 3:w = 1.872,loss = 0.76800019\n",
      "epoch 4:w = 1.949,loss = 0.12288000\n",
      "epoch 5:w = 1.980,loss = 0.01966083\n",
      "epoch 6:w = 1.992,loss = 0.00314570\n",
      "epoch 7:w = 1.997,loss = 0.00050332\n",
      "epoch 8:w = 1.999,loss = 0.00008053\n",
      "epoch 9:w = 1.999,loss = 0.00001288\n",
      "epoch 10:w = 2.000,loss = 0.00000206\n",
      "Prediction after training: f(5) = 9.999\n"
     ]
    }
   ],
   "source": [
    "# Trainning\n",
    "learning_rate = 0.01\n",
    "epochs = 10\n",
    "\n",
    "for epoch in range(epochs):\n",
    "    # Prediction = foward pass\n",
    "    y_pred = forward(X)\n",
    "    # Loss\n",
    "    l = loss(y,y_pred)\n",
    "    # Gradients\n",
    "    dw = gradient(X,y,y_pred)\n",
    "    # Update Weights\n",
    "    w -= learning_rate*dw\n",
    "    \n",
    "    if epoch % 1 ==0:\n",
    "        print(f\"epoch {epoch+1}:w = {w:.3f},loss = {l:.8f}\")\n",
    "\n",
    "print(f\"Prediction after training: f(5) = {forward(5):.3f}\")"
   ]
  },
  {
   "cell_type": "markdown",
   "id": "4d6c8c8e",
   "metadata": {},
   "source": [
    "# Pytorch Auto Gradient Computation Calculations"
   ]
  },
  {
   "cell_type": "code",
   "execution_count": 18,
   "id": "ab4947db",
   "metadata": {},
   "outputs": [],
   "source": [
    "import torch\n",
    "X = torch.tensor([1,2,3,4], dtype=torch.float32)\n",
    "y = torch.tensor([2,4,6,8],dtype =torch.float32) # function"
   ]
  },
  {
   "cell_type": "code",
   "execution_count": 22,
   "id": "c6edb89a",
   "metadata": {},
   "outputs": [],
   "source": [
    "w = torch.tensor(0.0,dtype=torch.float32,requires_grad=True)"
   ]
  },
  {
   "cell_type": "code",
   "execution_count": 23,
   "id": "6611f0b5",
   "metadata": {},
   "outputs": [],
   "source": [
    "# Model Prediction\n",
    "\n",
    "def forward(x): # foward pass\n",
    "    return w *x"
   ]
  },
  {
   "cell_type": "code",
   "execution_count": 24,
   "id": "597af34f",
   "metadata": {},
   "outputs": [],
   "source": [
    "#loss = MSE\n",
    "def loss(y,y_pred):\n",
    "    return((y_pred-y)**2).mean()"
   ]
  },
  {
   "cell_type": "code",
   "execution_count": 26,
   "id": "e10c5141",
   "metadata": {},
   "outputs": [
    {
     "name": "stdout",
     "output_type": "stream",
     "text": [
      "epoch 1:w = 1.665,loss = 1.16278565\n",
      "epoch 3:w = 1.758,loss = 0.60698116\n",
      "epoch 5:w = 1.825,loss = 0.31684780\n",
      "epoch 7:w = 1.874,loss = 0.16539653\n",
      "epoch 9:w = 1.909,loss = 0.08633806\n",
      "epoch 11:w = 1.934,loss = 0.04506890\n",
      "epoch 13:w = 1.952,loss = 0.02352631\n",
      "epoch 15:w = 1.966,loss = 0.01228084\n",
      "epoch 17:w = 1.975,loss = 0.00641066\n",
      "epoch 19:w = 1.982,loss = 0.00334642\n",
      "Prediction after training: f(5) = 9.924\n"
     ]
    }
   ],
   "source": [
    "# Trainning\n",
    "learning_rate = 0.01\n",
    "epochs = 20\n",
    "\n",
    "for epoch in range(epochs):\n",
    "    # Prediction = foward pass\n",
    "    y_pred = forward(X)\n",
    "    # Loss\n",
    "    l = loss(y,y_pred)\n",
    "    # Gradients = backward pass\n",
    "    l.backward() # dl/dw # compare with manual\n",
    "    # Update Weights\n",
    "    with torch.no_grad():\n",
    "        w -= learning_rate*w.grad\n",
    "    \n",
    "    # zero graidents # after each iteration it returns the gradients to zero \n",
    "    w.grad.zero_()\n",
    "    if epoch % 2 ==0:\n",
    "        print(f\"epoch {epoch+1}:w = {w:.3f},loss = {l:.8f}\")\n",
    "\n",
    "print(f\"Prediction after training: f(5) = {forward(5):.3f}\")"
   ]
  },
  {
   "cell_type": "markdown",
   "id": "6e5c7d2a",
   "metadata": {},
   "source": [
    "# Pytorch Graident/loss/Parameter Optimizer Calculations"
   ]
  },
  {
   "cell_type": "code",
   "execution_count": 43,
   "id": "ec2a0a16",
   "metadata": {},
   "outputs": [],
   "source": [
    "# 1) Design model (input,output,forward pass)\n",
    "# 2) Construct loss and optimizer \n",
    "# 3) Trainning Loop\n",
    "# -foward pass: compute prediction\n",
    "# -backward pass:gradients\n",
    "# -update weights"
   ]
  },
  {
   "cell_type": "code",
   "execution_count": 44,
   "id": "2ff401ea",
   "metadata": {},
   "outputs": [],
   "source": [
    "import torch.nn as nn\n",
    "\n",
    "X = torch.tensor([1, 2, 3, 4], dtype=torch.float32)\n",
    "Y = torch.tensor([2, 4, 6, 8], dtype=torch.float32)\n",
    "\n",
    "w = torch.tensor(0.0, dtype=torch.float32, requires_grad=True)"
   ]
  },
  {
   "cell_type": "code",
   "execution_count": 45,
   "id": "fdef7cb6",
   "metadata": {},
   "outputs": [],
   "source": [
    "def forward(x):\n",
    "    return w * x"
   ]
  },
  {
   "cell_type": "code",
   "execution_count": 46,
   "id": "642150fc",
   "metadata": {},
   "outputs": [
    {
     "name": "stdout",
     "output_type": "stream",
     "text": [
      "Prediction before training: f(5) = 0.000\n"
     ]
    }
   ],
   "source": [
    "print(f'Prediction before training: f(5) = {forward(5).item():.3f}')"
   ]
  },
  {
   "cell_type": "code",
   "execution_count": 47,
   "id": "cc9be5aa",
   "metadata": {},
   "outputs": [
    {
     "name": "stdout",
     "output_type": "stream",
     "text": [
      "epoch 1: w = 0.300, loss = 30.00000000\n",
      "epoch 3: w = 0.772, loss = 15.66018772\n",
      "epoch 5: w = 1.113, loss = 8.17471695\n",
      "epoch 7: w = 1.359, loss = 4.26725292\n",
      "epoch 9: w = 1.537, loss = 2.22753215\n",
      "epoch 11: w = 1.665, loss = 1.16278565\n",
      "epoch 13: w = 1.758, loss = 0.60698116\n",
      "epoch 15: w = 1.825, loss = 0.31684780\n",
      "epoch 17: w = 1.874, loss = 0.16539653\n",
      "epoch 19: w = 1.909, loss = 0.08633806\n",
      "epoch 21: w = 1.934, loss = 0.04506890\n",
      "epoch 23: w = 1.952, loss = 0.02352631\n",
      "epoch 25: w = 1.966, loss = 0.01228084\n",
      "epoch 27: w = 1.975, loss = 0.00641066\n",
      "epoch 29: w = 1.982, loss = 0.00334642\n",
      "epoch 31: w = 1.987, loss = 0.00174685\n",
      "epoch 33: w = 1.991, loss = 0.00091188\n",
      "epoch 35: w = 1.993, loss = 0.00047601\n",
      "epoch 37: w = 1.995, loss = 0.00024848\n",
      "epoch 39: w = 1.996, loss = 0.00012971\n",
      "epoch 41: w = 1.997, loss = 0.00006770\n",
      "epoch 43: w = 1.998, loss = 0.00003534\n",
      "epoch 45: w = 1.999, loss = 0.00001845\n",
      "epoch 47: w = 1.999, loss = 0.00000963\n",
      "epoch 49: w = 1.999, loss = 0.00000503\n",
      "epoch 51: w = 1.999, loss = 0.00000262\n",
      "epoch 53: w = 2.000, loss = 0.00000137\n",
      "epoch 55: w = 2.000, loss = 0.00000071\n",
      "epoch 57: w = 2.000, loss = 0.00000037\n",
      "epoch 59: w = 2.000, loss = 0.00000019\n",
      "epoch 61: w = 2.000, loss = 0.00000010\n",
      "epoch 63: w = 2.000, loss = 0.00000005\n",
      "epoch 65: w = 2.000, loss = 0.00000003\n",
      "epoch 67: w = 2.000, loss = 0.00000001\n",
      "epoch 69: w = 2.000, loss = 0.00000001\n",
      "epoch 71: w = 2.000, loss = 0.00000000\n",
      "epoch 73: w = 2.000, loss = 0.00000000\n",
      "epoch 75: w = 2.000, loss = 0.00000000\n",
      "epoch 77: w = 2.000, loss = 0.00000000\n",
      "epoch 79: w = 2.000, loss = 0.00000000\n",
      "epoch 81: w = 2.000, loss = 0.00000000\n",
      "epoch 83: w = 2.000, loss = 0.00000000\n",
      "epoch 85: w = 2.000, loss = 0.00000000\n",
      "epoch 87: w = 2.000, loss = 0.00000000\n",
      "epoch 89: w = 2.000, loss = 0.00000000\n",
      "epoch 91: w = 2.000, loss = 0.00000000\n",
      "epoch 93: w = 2.000, loss = 0.00000000\n",
      "epoch 95: w = 2.000, loss = 0.00000000\n",
      "epoch 97: w = 2.000, loss = 0.00000000\n",
      "epoch 99: w = 2.000, loss = 0.00000000\n",
      "Prediction after training: f(5) = 10.000\n"
     ]
    }
   ],
   "source": [
    "learning_rate = 0.01\n",
    "epochs = 100\n",
    "\n",
    "loss_fn = nn.MSELoss()\n",
    "optimizer = torch.optim.SGD([w], lr=learning_rate)\n",
    "\n",
    "for epoch in range(epochs):\n",
    "    # Forward pass\n",
    "    y_pred = forward(X)\n",
    "    \n",
    "    # Loss calculation\n",
    "    l = loss_fn(Y, y_pred)\n",
    "    \n",
    "    # Backward pass\n",
    "    l.backward()\n",
    "    \n",
    "    # Update weights\n",
    "    optimizer.step()\n",
    "    \n",
    "    # Zero gradients\n",
    "    optimizer.zero_grad()\n",
    "    \n",
    "    if epoch % 2 == 0:\n",
    "        print(f\"epoch {epoch+1}: w = {w.item():.3f}, loss = {l.item():.8f}\")\n",
    "\n",
    "print(f\"Prediction after training: f(5) = {forward(5).item():.3f}\")"
   ]
  },
  {
   "cell_type": "markdown",
   "id": "520488f0",
   "metadata": {},
   "source": [
    "# ALL pytorch calculated\n"
   ]
  },
  {
   "cell_type": "code",
   "execution_count": 52,
   "id": "3b8c15ee",
   "metadata": {},
   "outputs": [],
   "source": [
    "# 0) Training samples, watch the shape!\n",
    "X = torch.tensor([[1], [2], [3], [4]], dtype=torch.float32)\n",
    "Y = torch.tensor([[2], [4], [6], [8]], dtype=torch.float32)"
   ]
  },
  {
   "cell_type": "code",
   "execution_count": 53,
   "id": "384cfed7",
   "metadata": {},
   "outputs": [
    {
     "name": "stdout",
     "output_type": "stream",
     "text": [
      "#samples: 4, #features: 1\n"
     ]
    }
   ],
   "source": [
    "n_samples, n_features = X.shape\n",
    "print(f'#samples: {n_samples}, #features: {n_features}')\n",
    "# 0) create a test sample\n",
    "X_test = torch.tensor([5], dtype=torch.float32)"
   ]
  },
  {
   "cell_type": "code",
   "execution_count": 54,
   "id": "2d243965",
   "metadata": {},
   "outputs": [],
   "source": [
    "# 1) Design Model, the model has to implement the forward pass!\n",
    "# Here we can use a built-in model from PyTorch\n",
    "input_size = n_features\n",
    "output_size = n_features"
   ]
  },
  {
   "cell_type": "code",
   "execution_count": 55,
   "id": "4114193d",
   "metadata": {},
   "outputs": [],
   "source": [
    "# we can call this model with samples X\n",
    "model = nn.Linear(input_size, output_size)"
   ]
  },
  {
   "cell_type": "code",
   "execution_count": 56,
   "id": "9e6a521b",
   "metadata": {},
   "outputs": [
    {
     "name": "stdout",
     "output_type": "stream",
     "text": [
      "Prediction before training: f(5) = -0.784\n",
      "epoch  1 : w =  0.007514327764511108  loss =  tensor(31.9267, grad_fn=<MseLossBackward0>)\n",
      "epoch  11 : w =  1.308863639831543  loss =  tensor(1.1048, grad_fn=<MseLossBackward0>)\n",
      "epoch  21 : w =  1.5291328430175781  loss =  tensor(0.2912, grad_fn=<MseLossBackward0>)\n",
      "epoch  31 : w =  1.5751880407333374  loss =  tensor(0.2548, grad_fn=<MseLossBackward0>)\n",
      "epoch  41 : w =  1.592907190322876  loss =  tensor(0.2395, grad_fn=<MseLossBackward0>)\n",
      "epoch  51 : w =  1.6057640314102173  loss =  tensor(0.2255, grad_fn=<MseLossBackward0>)\n",
      "epoch  61 : w =  1.61754310131073  loss =  tensor(0.2124, grad_fn=<MseLossBackward0>)\n",
      "epoch  71 : w =  1.6288620233535767  loss =  tensor(0.2001, grad_fn=<MseLossBackward0>)\n",
      "epoch  81 : w =  1.6398284435272217  loss =  tensor(0.1884, grad_fn=<MseLossBackward0>)\n",
      "epoch  91 : w =  1.6504679918289185  loss =  tensor(0.1774, grad_fn=<MseLossBackward0>)\n",
      "Prediction after training: f(5) = 9.299\n"
     ]
    }
   ],
   "source": [
    "print(f'Prediction before training: f(5) = {model(X_test).item():.3f}')\n",
    "\n",
    "# 2) Define loss and optimizer\n",
    "learning_rate = 0.01\n",
    "n_iters = 100\n",
    "\n",
    "loss = nn.MSELoss()\n",
    "optimizer = torch.optim.SGD(model.parameters(), lr=learning_rate)\n",
    "\n",
    "# 3) Training loop\n",
    "for epoch in range(n_iters):\n",
    "    # predict = forward pass with our model\n",
    "    y_predicted = model(X)\n",
    "\n",
    "    # loss\n",
    "    l = loss(Y, y_predicted)\n",
    "\n",
    "    # calculate gradients = backward pass\n",
    "    l.backward()\n",
    "\n",
    "    # update weights\n",
    "    optimizer.step()\n",
    "\n",
    "    # zero the gradients after updating\n",
    "    optimizer.zero_grad()\n",
    "\n",
    "    if epoch % 10 == 0:\n",
    "        [w, b] = model.parameters() # unpack parameters\n",
    "        print('epoch ', epoch+1, ': w = ', w[0][0].item(), ' loss = ', l)\n",
    "\n",
    "print(f'Prediction after training: f(5) = {model(X_test).item():.3f}')"
   ]
  },
  {
   "cell_type": "code",
   "execution_count": null,
   "id": "1f56e6bb",
   "metadata": {},
   "outputs": [],
   "source": []
  },
  {
   "cell_type": "code",
   "execution_count": null,
   "id": "df4b5551",
   "metadata": {},
   "outputs": [],
   "source": []
  }
 ],
 "metadata": {
  "kernelspec": {
   "display_name": "Python 3 (ipykernel)",
   "language": "python",
   "name": "python3"
  },
  "language_info": {
   "codemirror_mode": {
    "name": "ipython",
    "version": 3
   },
   "file_extension": ".py",
   "mimetype": "text/x-python",
   "name": "python",
   "nbconvert_exporter": "python",
   "pygments_lexer": "ipython3",
   "version": "3.11.9"
  }
 },
 "nbformat": 4,
 "nbformat_minor": 5
}
