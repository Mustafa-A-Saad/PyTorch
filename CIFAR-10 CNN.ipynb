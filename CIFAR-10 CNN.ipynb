{
 "cells": [
  {
   "cell_type": "code",
   "execution_count": 23,
   "id": "bb1788e5",
   "metadata": {},
   "outputs": [],
   "source": [
    "import torch\n",
    "import torch.nn as nn\n",
    "import torch.nn.functional as F\n",
    "import torchvision\n",
    "import torchvision.transforms as transforms\n",
    "import matplotlib.pyplot as plt\n",
    "import numpy as np\n",
    "%matplotlib inline"
   ]
  },
  {
   "cell_type": "code",
   "execution_count": 24,
   "id": "6e6edbb4",
   "metadata": {},
   "outputs": [
    {
     "data": {
      "text/plain": [
       "device(type='cpu')"
      ]
     },
     "execution_count": 24,
     "metadata": {},
     "output_type": "execute_result"
    }
   ],
   "source": [
    "device = torch.device(\"cuda\" if torch.cuda.is_available() else \"cpu\")\n",
    "device"
   ]
  },
  {
   "cell_type": "code",
   "execution_count": 25,
   "id": "3d73bc27",
   "metadata": {},
   "outputs": [],
   "source": [
    "# Hyper Parameters\n",
    "EPOCHS = 4\n",
    "batch_size = 4\n",
    "learning_rate = 0.001"
   ]
  },
  {
   "cell_type": "code",
   "execution_count": 26,
   "id": "c562bd8e",
   "metadata": {},
   "outputs": [],
   "source": [
    "# Dataset has PIL-Images of range [0,1]\n",
    "# We Trasnform them to tensors of nromalized range [-1,1]\n",
    "transform = transforms.Compose(\n",
    "    [transforms.ToTensor(),\n",
    "     transforms.Normalize((0.5, 0.5, 0.5), (0.5, 0.5, 0.5))])\n"
   ]
  },
  {
   "cell_type": "code",
   "execution_count": 27,
   "id": "cd168e7f",
   "metadata": {},
   "outputs": [
    {
     "name": "stdout",
     "output_type": "stream",
     "text": [
      "Files already downloaded and verified\n"
     ]
    }
   ],
   "source": [
    "train_dataset = torchvision.datasets.CIFAR10(root='./data', train=True, transform=transform, download=True)\n",
    "test_dataset = torchvision.datasets.CIFAR10(root='./data', train=False, transform=transform)\n",
    "\n",
    "train_loader = torch.utils.data.DataLoader(train_dataset,batch_size=batch_size,shuffle=True)\n",
    "test_loader = torch.utils.data.DataLoader(test_dataset,batch_size=batch_size)\n",
    "\n",
    "classes = ('plane','car','bird','cat','deer','dog','frog','horse','ship','truck')"
   ]
  },
  {
   "cell_type": "code",
   "execution_count": 28,
   "id": "615bbb97",
   "metadata": {},
   "outputs": [],
   "source": [
    "# Implment Conv net\n",
    "\n",
    "class ConvNet(nn.Module):\n",
    "    def __init__(self):\n",
    "        super(ConvNet,self).__init__()\n",
    "        self.conv1 = nn.Conv2d(3,6,5)  # # input_layer : 3 input channels , 6 output channels , 5 kernel_size ( flitering)\n",
    "        self.pool = nn.MaxPool2d(2,2)\n",
    "        self.conv2 = nn.Conv2d(6,16,5) # input here must be same number as output channel in conv1\n",
    "        \n",
    "        self.linear1 = nn.Linear(16*5*5,120) # 16*5*5 = \n",
    "        self.linear2 = nn.Linear(120,84)\n",
    "        self.linear3 = nn.Linear(84,10) # output must be 10\n",
    "        \n",
    "        \n",
    "    def forward(self,x):\n",
    "        x = self.pool(F.relu(self.conv1(x)))\n",
    "        x = self.pool(F.relu(self.conv2(x)))\n",
    "        x = x.view(-1,16*5*5) # Flattening it\n",
    "        x = F.relu(self.linear1(x))\n",
    "        x = F.relu(self.linear2(x))\n",
    "        x = self.linear3(x)\n",
    "        return x\n",
    "\n",
    "model = ConvNet().to(device)"
   ]
  },
  {
   "cell_type": "code",
   "execution_count": 29,
   "id": "dac1678d",
   "metadata": {},
   "outputs": [],
   "source": [
    "# Loss and optimizer\n",
    "criterion = nn.CrossEntropyLoss()\n",
    "optimizer = torch.optim.SGD(model.parameters(),lr=learning_rate)"
   ]
  },
  {
   "cell_type": "code",
   "execution_count": 31,
   "id": "5ba2a209",
   "metadata": {},
   "outputs": [
    {
     "name": "stdout",
     "output_type": "stream",
     "text": [
      "Epoch [1/4], Step [2000/12500], Loss: 2.3163\n",
      "Epoch [1/4], Step [4000/12500], Loss: 2.3454\n",
      "Epoch [1/4], Step [6000/12500], Loss: 2.3015\n",
      "Epoch [1/4], Step [8000/12500], Loss: 2.0420\n",
      "Epoch [1/4], Step [10000/12500], Loss: 2.8965\n",
      "Epoch [1/4], Step [12000/12500], Loss: 2.1090\n",
      "Epoch [2/4], Step [2000/12500], Loss: 2.5650\n",
      "Epoch [2/4], Step [4000/12500], Loss: 1.8504\n",
      "Epoch [2/4], Step [6000/12500], Loss: 2.4940\n",
      "Epoch [2/4], Step [8000/12500], Loss: 1.5247\n",
      "Epoch [2/4], Step [10000/12500], Loss: 1.5881\n",
      "Epoch [2/4], Step [12000/12500], Loss: 2.6673\n",
      "Epoch [3/4], Step [2000/12500], Loss: 1.5817\n",
      "Epoch [3/4], Step [4000/12500], Loss: 1.6174\n",
      "Epoch [3/4], Step [6000/12500], Loss: 2.3095\n",
      "Epoch [3/4], Step [8000/12500], Loss: 1.4741\n",
      "Epoch [3/4], Step [10000/12500], Loss: 1.3350\n",
      "Epoch [3/4], Step [12000/12500], Loss: 1.6069\n",
      "Epoch [4/4], Step [2000/12500], Loss: 1.7630\n",
      "Epoch [4/4], Step [4000/12500], Loss: 0.8575\n",
      "Epoch [4/4], Step [6000/12500], Loss: 1.4452\n",
      "Epoch [4/4], Step [8000/12500], Loss: 0.6463\n",
      "Epoch [4/4], Step [10000/12500], Loss: 1.3298\n",
      "Epoch [4/4], Step [12000/12500], Loss: 1.5783\n",
      "Finished Training\n"
     ]
    }
   ],
   "source": [
    "# Training Loop\n",
    "\n",
    "n_total_steps = len(train_loader)\n",
    "for epoch in range(EPOCHS):\n",
    "    for i, (images, labels) in enumerate(train_loader):\n",
    "        # origin shape: [4, 3, 32, 32] = 4, 3, 1024\n",
    "        # input_layer: 3 input channels, 6 output channels, 5 kernel size\n",
    "        images = images.to(device)\n",
    "        labels = labels.to(device)\n",
    "\n",
    "        # Forward pass\n",
    "        outputs = model(images)\n",
    "        loss = criterion(outputs, labels)\n",
    "\n",
    "        # Backward and optimize\n",
    "        optimizer.zero_grad()\n",
    "        loss.backward()\n",
    "        optimizer.step()\n",
    "\n",
    "        if (i+1) % 2000 == 0:\n",
    "            print (f'Epoch [{epoch+1}/{EPOCHS}], Step [{i+1}/{n_total_steps}], Loss: {loss.item():.4f}')\n",
    "\n",
    "print('Finished Training')\n"
   ]
  },
  {
   "cell_type": "code",
   "execution_count": 32,
   "id": "bc6823e6",
   "metadata": {},
   "outputs": [
    {
     "name": "stdout",
     "output_type": "stream",
     "text": [
      "Accuracy of the network: 47.73 %\n",
      "Accuracy of plane: 52.4 %\n",
      "Accuracy of car: 65.9 %\n",
      "Accuracy of bird: 30.8 %\n",
      "Accuracy of cat: 30.7 %\n",
      "Accuracy of deer: 20.4 %\n",
      "Accuracy of dog: 44.6 %\n",
      "Accuracy of frog: 62.9 %\n",
      "Accuracy of horse: 50.3 %\n",
      "Accuracy of ship: 61.3 %\n",
      "Accuracy of truck: 58.0 %\n"
     ]
    }
   ],
   "source": [
    "with torch.no_grad():\n",
    "    n_correct = 0\n",
    "    n_samples = 0\n",
    "    n_class_correct = [0 for i in range(10)]\n",
    "    n_class_samples = [0 for i in range(10)]\n",
    "    for images, labels in test_loader:\n",
    "        images = images.to(device)\n",
    "        labels = labels.to(device)\n",
    "        outputs = model(images)\n",
    "        # max returns (value ,index)\n",
    "        _, predicted = torch.max(outputs, 1)\n",
    "        n_samples += labels.size(0)\n",
    "        n_correct += (predicted == labels).sum().item()\n",
    "        \n",
    "        for i in range(batch_size):\n",
    "            label = labels[i]\n",
    "            pred = predicted[i]\n",
    "            if (label == pred):\n",
    "                n_class_correct[label] += 1\n",
    "            n_class_samples[label] += 1\n",
    "\n",
    "    acc = 100.0 * n_correct / n_samples\n",
    "    print(f'Accuracy of the network: {acc} %')\n",
    "\n",
    "    for i in range(10):\n",
    "        acc = 100.0 * n_class_correct[i] / n_class_samples[i]\n",
    "        print(f'Accuracy of {classes[i]}: {acc} %')"
   ]
  },
  {
   "cell_type": "code",
   "execution_count": null,
   "id": "05ed75dc",
   "metadata": {},
   "outputs": [],
   "source": []
  }
 ],
 "metadata": {
  "kernelspec": {
   "display_name": "Python 3 (ipykernel)",
   "language": "python",
   "name": "python3"
  },
  "language_info": {
   "codemirror_mode": {
    "name": "ipython",
    "version": 3
   },
   "file_extension": ".py",
   "mimetype": "text/x-python",
   "name": "python",
   "nbconvert_exporter": "python",
   "pygments_lexer": "ipython3",
   "version": "3.11.9"
  }
 },
 "nbformat": 4,
 "nbformat_minor": 5
}
