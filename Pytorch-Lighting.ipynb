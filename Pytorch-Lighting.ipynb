{
 "cells": [
  {
   "cell_type": "code",
   "execution_count": 12,
   "id": "c5ad37df",
   "metadata": {},
   "outputs": [],
   "source": [
    "import torch\n",
    "import torch.nn as nn\n",
    "import torchvision\n",
    "import torchvision.transforms as transforms\n",
    "import torch.nn.functional as F\n",
    "import matplotlib.pyplot as plt\n",
    "import pytorch_lightning as pl\n",
    "from pytorch_lightning import Trainer"
   ]
  },
  {
   "cell_type": "code",
   "execution_count": 13,
   "id": "00cdf2f6",
   "metadata": {},
   "outputs": [],
   "source": [
    "# Hyper-parameters\n",
    "input_size = 784  # 28x28\n",
    "hidden_size = 500\n",
    "num_classes = 10\n",
    "num_epochs = 2\n",
    "batch_size = 100\n",
    "learning_rate = 0.001"
   ]
  },
  {
   "cell_type": "code",
   "execution_count": 14,
   "id": "5076c71b",
   "metadata": {},
   "outputs": [],
   "source": [
    "# Fully connected neural network with one hidden layer\n",
    "class LitNeuralNet(pl.LightningModule):\n",
    "    def __init__(self, input_size, hidden_size, num_classes):\n",
    "        super(LitNeuralNet, self).__init__()\n",
    "        self.input_size = input_size\n",
    "        self.l1 = nn.Linear(input_size, hidden_size)\n",
    "        self.relu = nn.ReLU()\n",
    "        self.l2 = nn.Linear(hidden_size, num_classes)\n",
    "\n",
    "    def forward(self, x):\n",
    "        out = self.l1(x)\n",
    "        out = self.relu(out)\n",
    "        out = self.l2(out)\n",
    "        # no activation and no softmax at the end\n",
    "        return out"
   ]
  },
  {
   "cell_type": "code",
   "execution_count": 17,
   "id": "83c5c747",
   "metadata": {
    "scrolled": true
   },
   "outputs": [
    {
     "ename": "IndentationError",
     "evalue": "expected an indented block after 'if' statement on line 58 (2364516332.py, line 59)",
     "output_type": "error",
     "traceback": [
      "\u001b[1;36m  Cell \u001b[1;32mIn[17], line 59\u001b[1;36m\u001b[0m\n\u001b[1;33m    model = LitNeuralNet(input_size, hidden_size, num_classes)\u001b[0m\n\u001b[1;37m    ^\u001b[0m\n\u001b[1;31mIndentationError\u001b[0m\u001b[1;31m:\u001b[0m expected an indented block after 'if' statement on line 58\n"
     ]
    }
   ],
   "source": [
    "    def training_step(self, batch, batch_idx):\n",
    "        images, labels = batch\n",
    "        images = images.reshape(-1, 28 * 28)\n",
    "\n",
    "        # Forward pass\n",
    "        outputs = self(images)\n",
    "        loss = F.cross_entropy(outputs, labels)\n",
    "        \n",
    "        tensorboard_logs = {'train_loss': loss}\n",
    "        # use key 'log'\n",
    "        return {\"loss\": loss, 'log': tensorboard_logs}\n",
    "\n",
    "    # define what happens for testing here\n",
    "\n",
    "    def train_dataloader(self):\n",
    "        # MNIST dataset\n",
    "        train_dataset = torchvision.datasets.MNIST(\n",
    "            root=\"./data\", train=True, transform=transforms.ToTensor(), download=True\n",
    "        )\n",
    "        # Data loader\n",
    "        train_loader = torch.utils.data.DataLoader(\n",
    "            dataset=train_dataset, batch_size=batch_size, num_workers=4, shuffle=False\n",
    "        )\n",
    "        return train_loader\n",
    "\n",
    "    def val_dataloader(self):\n",
    "        test_dataset = torchvision.datasets.MNIST(\n",
    "            root=\"./data\", train=False, transform=transforms.ToTensor()\n",
    "        )\n",
    "\n",
    "        test_loader = torch.utils.data.DataLoader(\n",
    "            dataset=test_dataset, batch_size=batch_size, num_workers=4, shuffle=False\n",
    "        )\n",
    "        return test_loader\n",
    "    \n",
    "    def validation_step(self, batch, batch_idx):\n",
    "        images, labels = batch\n",
    "        images = images.reshape(-1, 28 * 28)\n",
    "\n",
    "        # Forward pass\n",
    "        outputs = self(images)\n",
    "                        \n",
    "        loss = F.cross_entropy(outputs, labels)\n",
    "        return {\"val_loss\": loss}\n",
    "    \n",
    "    def validation_epoch_end(self, outputs):\n",
    "        # outputs = list of dictionaries\n",
    "        avg_loss = torch.stack([x['val_loss'] for x in outputs]).mean()\n",
    "        tensorboard_logs = {'avg_val_loss': avg_loss}\n",
    "        # use key 'log'\n",
    "        return {'val_loss': avg_loss, 'log': tensorboard_logs}\n",
    "    \n",
    "    \n",
    "    def configure_optimizers(self):\n",
    "        return torch.optim.Adam(self.parameters(), lr=learning_rate)\n",
    "\n",
    "\n",
    "if __name__ == '__main__':\n",
    "    model = LitNeuralNet(input_size, hidden_size, num_classes)\n",
    "    # Error occurs here, Python expects an indented block after the 'if' statement\n",
    "\n",
    "    # Instantiate Trainer\n",
    "    trainer = Trainer(max_epochs=num_epochs)\n",
    "    # Train the model\n",
    "    trainer.fit(model)\n"
   ]
  },
  {
   "cell_type": "code",
   "execution_count": null,
   "id": "0e80a32f",
   "metadata": {},
   "outputs": [],
   "source": []
  }
 ],
 "metadata": {
  "kernelspec": {
   "display_name": "Python 3 (ipykernel)",
   "language": "python",
   "name": "python3"
  },
  "language_info": {
   "codemirror_mode": {
    "name": "ipython",
    "version": 3
   },
   "file_extension": ".py",
   "mimetype": "text/x-python",
   "name": "python",
   "nbconvert_exporter": "python",
   "pygments_lexer": "ipython3",
   "version": "3.11.9"
  }
 },
 "nbformat": 4,
 "nbformat_minor": 5
}
