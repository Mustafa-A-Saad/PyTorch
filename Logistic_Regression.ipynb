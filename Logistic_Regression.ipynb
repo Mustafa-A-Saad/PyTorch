{
 "cells": [
  {
   "cell_type": "code",
   "execution_count": 1,
   "id": "b134f4da",
   "metadata": {},
   "outputs": [],
   "source": [
    "# 1) Design model (input,output,forward pass)\n",
    "# 2) Construct loss and optimizer \n",
    "# 3) Trainning Loop\n",
    "# -foward pass: compute prediction\n",
    "# -backward pass:gradients\n",
    "# -update weights"
   ]
  },
  {
   "cell_type": "code",
   "execution_count": 8,
   "id": "94547065",
   "metadata": {},
   "outputs": [],
   "source": [
    "import torch\n",
    "import torch.nn as nn # neural network module\n",
    "import numpy as np\n",
    "from sklearn import datasets\n",
    "from sklearn.preprocessing import StandardScaler\n",
    "from sklearn.model_selection import train_test_split\n",
    "import matplotlib.pyplot as plt\n",
    "%matplotlib inline"
   ]
  },
  {
   "cell_type": "code",
   "execution_count": 17,
   "id": "75e66e38",
   "metadata": {},
   "outputs": [
    {
     "name": "stdout",
     "output_type": "stream",
     "text": [
      "569 30\n"
     ]
    }
   ],
   "source": [
    "# 0) Data Preparation\n",
    "\n",
    "bc = datasets.load_breast_cancer()\n",
    "X, y = bc.data, bc.target\n",
    "\n",
    "n_samples, n_features = X.shape\n",
    "print(n_samples,n_features)\n",
    "\n",
    "X_train, X_test, y_train, y_test = train_test_split(X, y, test_size=0.2, random_state=5)\n",
    "\n",
    "# Scaled\n",
    "sc = StandardScaler()\n",
    "X_train = sc.fit_transform(X_train)\n",
    "X_test = sc.transform(X_test)\n",
    "\n",
    "X_train = torch.from_numpy(X_train.astype(np.float32))\n",
    "X_test = torch.from_numpy(X_test.astype(np.float32))\n",
    "y_train = torch.from_numpy(y_train.astype(np.float32))\n",
    "y_test = torch.from_numpy(y_test.astype(np.float32))\n",
    "\n",
    "y_train = y_train.view(y_train.shape[0], 1)  # .view = .reshape\n",
    "y_test = y_test.view(y_test.shape[0], 1)"
   ]
  },
  {
   "cell_type": "code",
   "execution_count": 20,
   "id": "b654a872",
   "metadata": {},
   "outputs": [],
   "source": [
    "# 1) Design Model\n",
    "# f = wx+b then sigmoid function\n",
    "class LogisticRegression(nn.Module):\n",
    "    def __init__(self,n_input_features):\n",
    "        super(LogisticRegression,self).__init__()\n",
    "        self.linear = nn.Linear(n_input_features,1) # 1 is output\n",
    "    \n",
    "    def forward(self,x):\n",
    "        y_predicted = torch.sigmoid(self.linear(x))\n",
    "        return y_predicted\n",
    "    \n",
    "model = LogisticRegression(n_features)\n"
   ]
  },
  {
   "cell_type": "code",
   "execution_count": 21,
   "id": "eff68f08",
   "metadata": {},
   "outputs": [],
   "source": [
    "#Loss and optimizier\n",
    "learning_rate = 0.01\n",
    "\n",
    "criterion = nn.BCELoss() # Binary Crossentropy\n",
    "optimizer = torch.optim.SGD(model.parameters(),lr=learning_rate)"
   ]
  },
  {
   "cell_type": "code",
   "execution_count": 25,
   "id": "a0ef4946",
   "metadata": {},
   "outputs": [
    {
     "name": "stdout",
     "output_type": "stream",
     "text": [
      "epoch: 10, loss =0.1557\n",
      "epoch: 20, loss =0.1537\n",
      "epoch: 30, loss =0.1518\n",
      "epoch: 40, loss =0.1500\n",
      "epoch: 50, loss =0.1483\n",
      "epoch: 60, loss =0.1466\n",
      "epoch: 70, loss =0.1450\n",
      "epoch: 80, loss =0.1435\n",
      "epoch: 90, loss =0.1420\n",
      "epoch: 100, loss =0.1406\n",
      "accuracy = 0.9737\n"
     ]
    }
   ],
   "source": [
    "#Trainning Loop\n",
    "EPOCHS = 100\n",
    "\n",
    "for epoch in range(EPOCHS):\n",
    "    #foward pass and loss\n",
    "    y_predicted = model(X_train)\n",
    "    loss = criterion(y_predicted,y_train)\n",
    "    # Backward pass\n",
    "    loss.backward()\n",
    "    #update weights\n",
    "    optimizer.step()\n",
    "    # empty gradients zero it out\n",
    "    optimizer.zero_grad()\n",
    "    if (epoch+1)%10 ==0:\n",
    "        print(f\"epoch: {epoch+1}, loss ={loss.item():.4f}\")\n",
    "        \n",
    "        \n",
    "# Model Evaulating\n",
    "with torch.no_grad():\n",
    "    y_predicted = model(X_test)\n",
    "    y_predicted_cls = y_predicted.round()\n",
    "    accuracy = y_predicted_cls.eq(y_test).sum() / float(y_test.shape[0])\n",
    "    print(f\"accuracy = {accuracy:.4f}\")"
   ]
  },
  {
   "cell_type": "code",
   "execution_count": null,
   "id": "d78f9090",
   "metadata": {},
   "outputs": [],
   "source": []
  }
 ],
 "metadata": {
  "kernelspec": {
   "display_name": "Python 3 (ipykernel)",
   "language": "python",
   "name": "python3"
  },
  "language_info": {
   "codemirror_mode": {
    "name": "ipython",
    "version": 3
   },
   "file_extension": ".py",
   "mimetype": "text/x-python",
   "name": "python",
   "nbconvert_exporter": "python",
   "pygments_lexer": "ipython3",
   "version": "3.11.9"
  }
 },
 "nbformat": 4,
 "nbformat_minor": 5
}
