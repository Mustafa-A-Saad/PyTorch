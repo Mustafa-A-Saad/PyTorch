{
 "cells": [
  {
   "cell_type": "code",
   "execution_count": 1,
   "id": "18eb9fd5",
   "metadata": {
    "scrolled": true
   },
   "outputs": [
    {
     "data": {
      "text/plain": [
       "' 2 DIFFERENT WAYS OF SAVING\\n\\n# 1) lazy way: save whole model\\n\\ntorch.save(model, PATH)\\n\\n# model class must be defined somewhere\\nmodel = torch.load(PATH)\\nmodel.eval()\\n\\n# 2) recommended way: save only the state_dict\\n\\ntorch.save(model.state_dict(), PATH) # this saves the parameters of the model\\n\\n# model must be created again with parameters\\nmodel = Model(*args, **kwargs)\\nmodel.load_state_dict(torch.load(PATH))\\nmodel.eval()\\n'"
      ]
     },
     "execution_count": 1,
     "metadata": {},
     "output_type": "execute_result"
    }
   ],
   "source": [
    "''' 3 DIFFERENT METHODS TO REMEMBER:\n",
    " - torch.save(arg, PATH) # can be model, tensor, or dictionary  \n",
    " - torch.load(PATH)\n",
    " - torch.load_state_dict(arg)\n",
    "'''\n",
    "\n",
    "''' 2 DIFFERENT WAYS OF SAVING\n",
    "\n",
    "# 1) lazy way: save whole model\n",
    "\n",
    "torch.save(model, PATH)\n",
    "\n",
    "# model class must be defined somewhere\n",
    "model = torch.load(PATH)\n",
    "model.eval()\n",
    "\n",
    "# 2) recommended way: save only the state_dict\n",
    "\n",
    "torch.save(model.state_dict(), PATH) # this saves the parameters of the model\n",
    "\n",
    "# model must be created again with parameters\n",
    "model = Model(*args, **kwargs)\n",
    "model.load_state_dict(torch.load(PATH))\n",
    "model.eval()\n",
    "'''"
   ]
  },
  {
   "cell_type": "code",
   "execution_count": 2,
   "id": "a7c6da5e",
   "metadata": {},
   "outputs": [],
   "source": [
    "import torch\n",
    "import torch.nn as nn"
   ]
  },
  {
   "cell_type": "markdown",
   "id": "5e3b28fb",
   "metadata": {},
   "source": [
    "# -------Lazy Option---------- "
   ]
  },
  {
   "cell_type": "code",
   "execution_count": 3,
   "id": "5663da92",
   "metadata": {},
   "outputs": [],
   "source": [
    "class Model(nn.Module):\n",
    "    def __init__(self, n_input_features):\n",
    "        super(Model, self).__init__()\n",
    "        self.linear = nn.Linear(n_input_features, 1)\n",
    "\n",
    "    def forward(self, x):\n",
    "        y_pred = torch.sigmoid(self.linear(x))\n",
    "        return y_pred\n",
    "\n",
    "model = Model(n_input_features=6)\n",
    "# train your model..."
   ]
  },
  {
   "cell_type": "code",
   "execution_count": 5,
   "id": "8381b85e",
   "metadata": {},
   "outputs": [],
   "source": [
    "FILE = 'model.pth'"
   ]
  },
  {
   "cell_type": "code",
   "execution_count": 6,
   "id": "fa9aeebc",
   "metadata": {},
   "outputs": [],
   "source": [
    "torch.save(model,FILE)"
   ]
  },
  {
   "cell_type": "code",
   "execution_count": 7,
   "id": "0dda0a26",
   "metadata": {},
   "outputs": [],
   "source": [
    "class Model(nn.Module):\n",
    "    def __init__(self, n_input_features):\n",
    "        super(Model, self).__init__()\n",
    "        self.linear = nn.Linear(n_input_features, 1)\n",
    "\n",
    "    def forward(self, x):\n",
    "        y_pred = torch.sigmoid(self.linear(x))\n",
    "        return y_pred"
   ]
  },
  {
   "cell_type": "code",
   "execution_count": 8,
   "id": "b0bf4e99",
   "metadata": {},
   "outputs": [
    {
     "data": {
      "text/plain": [
       "Model(\n",
       "  (linear): Linear(in_features=6, out_features=1, bias=True)\n",
       ")"
      ]
     },
     "execution_count": 8,
     "metadata": {},
     "output_type": "execute_result"
    }
   ],
   "source": [
    "FILE ='model.pth'\n",
    "model = torch.load(FILE)\n",
    "model.eval()"
   ]
  },
  {
   "cell_type": "code",
   "execution_count": 9,
   "id": "8052b8c9",
   "metadata": {},
   "outputs": [
    {
     "name": "stdout",
     "output_type": "stream",
     "text": [
      "Parameter containing:\n",
      "tensor([[-0.0966,  0.0871,  0.1954,  0.2351,  0.3141, -0.2997]],\n",
      "       requires_grad=True)\n",
      "Parameter containing:\n",
      "tensor([0.3980], requires_grad=True)\n"
     ]
    }
   ],
   "source": [
    "for param in model.parameters():\n",
    "    print(param)"
   ]
  },
  {
   "cell_type": "markdown",
   "id": "56e8385d",
   "metadata": {},
   "source": [
    "# ----------Prefered Option -----------"
   ]
  },
  {
   "cell_type": "code",
   "execution_count": 11,
   "id": "ba1588db",
   "metadata": {},
   "outputs": [],
   "source": [
    "class Model(nn.Module):\n",
    "    def __init__(self, n_input_features):\n",
    "        super(Model, self).__init__()\n",
    "        self.linear = nn.Linear(n_input_features, 1)\n",
    "\n",
    "    def forward(self, x):\n",
    "        y_pred = torch.sigmoid(self.linear(x))\n",
    "        return y_pred\n",
    "    \n",
    "model = Model(n_input_features=6)\n",
    "# train your model..."
   ]
  },
  {
   "cell_type": "code",
   "execution_count": 12,
   "id": "e7b702a2",
   "metadata": {},
   "outputs": [],
   "source": [
    "FILE = 'model.pth'"
   ]
  },
  {
   "cell_type": "code",
   "execution_count": 13,
   "id": "d7554153",
   "metadata": {},
   "outputs": [],
   "source": [
    "torch.save(model.state_dict(),FILE)"
   ]
  },
  {
   "cell_type": "code",
   "execution_count": 14,
   "id": "56871bcf",
   "metadata": {},
   "outputs": [
    {
     "data": {
      "text/plain": [
       "Model(\n",
       "  (linear): Linear(in_features=6, out_features=1, bias=True)\n",
       ")"
      ]
     },
     "execution_count": 14,
     "metadata": {},
     "output_type": "execute_result"
    }
   ],
   "source": [
    "loaded_model = Model(n_input_features=6)\n",
    "loaded_model.load_state_dict(torch.load(FILE))\n",
    "loaded_model.eval()"
   ]
  },
  {
   "cell_type": "code",
   "execution_count": 16,
   "id": "78a68968",
   "metadata": {},
   "outputs": [
    {
     "name": "stdout",
     "output_type": "stream",
     "text": [
      "Parameter containing:\n",
      "tensor([[-0.0609, -0.1224,  0.3977, -0.4039, -0.2630,  0.4061]],\n",
      "       requires_grad=True)\n",
      "Parameter containing:\n",
      "tensor([-0.1798], requires_grad=True)\n"
     ]
    }
   ],
   "source": [
    "for param in loaded_model.parameters():\n",
    "    print(param)"
   ]
  },
  {
   "cell_type": "code",
   "execution_count": 17,
   "id": "f7c4d066",
   "metadata": {},
   "outputs": [
    {
     "name": "stdout",
     "output_type": "stream",
     "text": [
      "OrderedDict([('linear.weight', tensor([[-0.0609, -0.1224,  0.3977, -0.4039, -0.2630,  0.4061]])), ('linear.bias', tensor([-0.1798]))])\n"
     ]
    }
   ],
   "source": [
    "print(model.state_dict())"
   ]
  },
  {
   "cell_type": "code",
   "execution_count": 18,
   "id": "6a6052b7",
   "metadata": {},
   "outputs": [
    {
     "name": "stdout",
     "output_type": "stream",
     "text": [
      "{'state': {}, 'param_groups': [{'lr': 0.01, 'momentum': 0, 'dampening': 0, 'weight_decay': 0, 'nesterov': False, 'maximize': False, 'foreach': None, 'differentiable': False, 'fused': None, 'params': [0, 1]}]}\n"
     ]
    }
   ],
   "source": [
    "learning_rate = 0.01\n",
    "optimizer = torch.optim.SGD(model.parameters(),lr=learning_rate)\n",
    "print(optimizer.state_dict())"
   ]
  },
  {
   "cell_type": "code",
   "execution_count": 19,
   "id": "ac8a429a",
   "metadata": {},
   "outputs": [],
   "source": [
    "checkpoint = {\n",
    "    \"epoch\" : 90,\n",
    "    \"model_state\": model.state_dict(),\n",
    "    \"optim_state\" : optimizer.state_dict()\n",
    "}\n",
    "\n",
    "torch.save(checkpoint,\"checkpoint.pth\")"
   ]
  },
  {
   "cell_type": "code",
   "execution_count": 20,
   "id": "9b42ebe7",
   "metadata": {},
   "outputs": [
    {
     "name": "stdout",
     "output_type": "stream",
     "text": [
      "{'state': {}, 'param_groups': [{'lr': 0.01, 'momentum': 0, 'dampening': 0, 'weight_decay': 0, 'nesterov': False, 'maximize': False, 'foreach': None, 'differentiable': False, 'fused': None, 'params': [0, 1]}]}\n"
     ]
    }
   ],
   "source": [
    "loaded_checkpoint = torch.load(\"checkpoint.pth\")\n",
    "epoch = loaded_checkpoint[\"epoch\"]\n",
    "\n",
    "model = Model(n_input_features=6)\n",
    "optimizer = torch.optim.SGD(model.parameters(),lr=0)\n",
    "\n",
    "model.load_state_dict(checkpoint[\"model_state\"]) # load all params into the model\n",
    "optimizer.load_state_dict(checkpoint[\"optim_state\"])\n",
    "print(optimizer.state_dict())"
   ]
  },
  {
   "cell_type": "code",
   "execution_count": null,
   "id": "d40dcccf",
   "metadata": {},
   "outputs": [],
   "source": []
  }
 ],
 "metadata": {
  "kernelspec": {
   "display_name": "Python 3 (ipykernel)",
   "language": "python",
   "name": "python3"
  },
  "language_info": {
   "codemirror_mode": {
    "name": "ipython",
    "version": 3
   },
   "file_extension": ".py",
   "mimetype": "text/x-python",
   "name": "python",
   "nbconvert_exporter": "python",
   "pygments_lexer": "ipython3",
   "version": "3.11.9"
  }
 },
 "nbformat": 4,
 "nbformat_minor": 5
}
