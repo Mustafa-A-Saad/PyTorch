{
 "cells": [
  {
   "cell_type": "code",
   "execution_count": 1,
   "id": "48246605",
   "metadata": {},
   "outputs": [],
   "source": [
    "from torchvision import datasets\n",
    "from torchvision.transforms import ToTensor"
   ]
  },
  {
   "cell_type": "code",
   "execution_count": 2,
   "id": "43542a6b",
   "metadata": {},
   "outputs": [
    {
     "name": "stdout",
     "output_type": "stream",
     "text": [
      "Downloading http://yann.lecun.com/exdb/mnist/train-images-idx3-ubyte.gz\n",
      "Failed to download (trying next):\n",
      "HTTP Error 403: Forbidden\n",
      "\n",
      "Downloading https://ossci-datasets.s3.amazonaws.com/mnist/train-images-idx3-ubyte.gz\n",
      "Downloading https://ossci-datasets.s3.amazonaws.com/mnist/train-images-idx3-ubyte.gz to data\\MNIST\\raw\\train-images-idx3-ubyte.gz\n"
     ]
    },
    {
     "name": "stderr",
     "output_type": "stream",
     "text": [
      "100%|███████████████████████████████████████████████████████████████████| 9912422/9912422 [00:05<00:00, 1672264.03it/s]\n"
     ]
    },
    {
     "name": "stdout",
     "output_type": "stream",
     "text": [
      "Extracting data\\MNIST\\raw\\train-images-idx3-ubyte.gz to data\\MNIST\\raw\n",
      "\n",
      "Downloading http://yann.lecun.com/exdb/mnist/train-labels-idx1-ubyte.gz\n",
      "Failed to download (trying next):\n",
      "HTTP Error 403: Forbidden\n",
      "\n",
      "Downloading https://ossci-datasets.s3.amazonaws.com/mnist/train-labels-idx1-ubyte.gz\n",
      "Downloading https://ossci-datasets.s3.amazonaws.com/mnist/train-labels-idx1-ubyte.gz to data\\MNIST\\raw\\train-labels-idx1-ubyte.gz\n"
     ]
    },
    {
     "name": "stderr",
     "output_type": "stream",
     "text": [
      "100%|████████████████████████████████████████████████████████████████████████| 28881/28881 [00:00<00:00, 202475.28it/s]\n"
     ]
    },
    {
     "name": "stdout",
     "output_type": "stream",
     "text": [
      "Extracting data\\MNIST\\raw\\train-labels-idx1-ubyte.gz to data\\MNIST\\raw\n",
      "\n",
      "Downloading http://yann.lecun.com/exdb/mnist/t10k-images-idx3-ubyte.gz\n",
      "Failed to download (trying next):\n",
      "HTTP Error 403: Forbidden\n",
      "\n",
      "Downloading https://ossci-datasets.s3.amazonaws.com/mnist/t10k-images-idx3-ubyte.gz\n",
      "Downloading https://ossci-datasets.s3.amazonaws.com/mnist/t10k-images-idx3-ubyte.gz to data\\MNIST\\raw\\t10k-images-idx3-ubyte.gz\n"
     ]
    },
    {
     "name": "stderr",
     "output_type": "stream",
     "text": [
      "100%|███████████████████████████████████████████████████████████████████| 1648877/1648877 [00:01<00:00, 1072926.88it/s]\n"
     ]
    },
    {
     "name": "stdout",
     "output_type": "stream",
     "text": [
      "Extracting data\\MNIST\\raw\\t10k-images-idx3-ubyte.gz to data\\MNIST\\raw\n",
      "\n",
      "Downloading http://yann.lecun.com/exdb/mnist/t10k-labels-idx1-ubyte.gz\n",
      "Failed to download (trying next):\n",
      "HTTP Error 403: Forbidden\n",
      "\n",
      "Downloading https://ossci-datasets.s3.amazonaws.com/mnist/t10k-labels-idx1-ubyte.gz\n",
      "Downloading https://ossci-datasets.s3.amazonaws.com/mnist/t10k-labels-idx1-ubyte.gz to data\\MNIST\\raw\\t10k-labels-idx1-ubyte.gz\n"
     ]
    },
    {
     "name": "stderr",
     "output_type": "stream",
     "text": [
      "100%|██████████████████████████████████████████████████████████████████████████████████████| 4542/4542 [00:00<?, ?it/s]"
     ]
    },
    {
     "name": "stdout",
     "output_type": "stream",
     "text": [
      "Extracting data\\MNIST\\raw\\t10k-labels-idx1-ubyte.gz to data\\MNIST\\raw\n",
      "\n"
     ]
    },
    {
     "name": "stderr",
     "output_type": "stream",
     "text": [
      "\n"
     ]
    }
   ],
   "source": [
    "train_data = datasets.MNIST(\n",
    "    root = 'data',\n",
    "    train=True,\n",
    "    transform=ToTensor(),\n",
    "    download=True\n",
    ")\n",
    "\n",
    "test_data = datasets.MNIST(\n",
    "    root = 'data',\n",
    "    train=False,\n",
    "    transform=ToTensor(),\n",
    "    download=True\n",
    ")"
   ]
  },
  {
   "cell_type": "code",
   "execution_count": 3,
   "id": "0d4264f0",
   "metadata": {},
   "outputs": [
    {
     "data": {
      "text/plain": [
       "Dataset MNIST\n",
       "    Number of datapoints: 60000\n",
       "    Root location: data\n",
       "    Split: Train\n",
       "    StandardTransform\n",
       "Transform: ToTensor()"
      ]
     },
     "execution_count": 3,
     "metadata": {},
     "output_type": "execute_result"
    }
   ],
   "source": [
    "train_data"
   ]
  },
  {
   "cell_type": "code",
   "execution_count": 4,
   "id": "8ce5ed90",
   "metadata": {},
   "outputs": [
    {
     "data": {
      "text/plain": [
       "Dataset MNIST\n",
       "    Number of datapoints: 10000\n",
       "    Root location: data\n",
       "    Split: Test\n",
       "    StandardTransform\n",
       "Transform: ToTensor()"
      ]
     },
     "execution_count": 4,
     "metadata": {},
     "output_type": "execute_result"
    }
   ],
   "source": [
    "test_data"
   ]
  },
  {
   "cell_type": "code",
   "execution_count": 6,
   "id": "b02d430a",
   "metadata": {},
   "outputs": [
    {
     "data": {
      "text/plain": [
       "torch.Size([60000, 28, 28])"
      ]
     },
     "execution_count": 6,
     "metadata": {},
     "output_type": "execute_result"
    }
   ],
   "source": [
    "train_data.data.shape # 60k , 28x28 pixels , only grayscale channels"
   ]
  },
  {
   "cell_type": "code",
   "execution_count": 9,
   "id": "ce21a90a",
   "metadata": {},
   "outputs": [
    {
     "data": {
      "text/plain": [
       "torch.Size([10000, 28, 28])"
      ]
     },
     "execution_count": 9,
     "metadata": {},
     "output_type": "execute_result"
    }
   ],
   "source": [
    "test_data.data.shape"
   ]
  },
  {
   "cell_type": "code",
   "execution_count": 10,
   "id": "d540533d",
   "metadata": {},
   "outputs": [
    {
     "data": {
      "text/plain": [
       "torch.Size([60000])"
      ]
     },
     "execution_count": 10,
     "metadata": {},
     "output_type": "execute_result"
    }
   ],
   "source": [
    "train_data.targets.shape # 60k images"
   ]
  },
  {
   "cell_type": "code",
   "execution_count": 11,
   "id": "80214ec9",
   "metadata": {},
   "outputs": [
    {
     "data": {
      "text/plain": [
       "tensor([5, 0, 4,  ..., 5, 6, 8])"
      ]
     },
     "execution_count": 11,
     "metadata": {},
     "output_type": "execute_result"
    }
   ],
   "source": [
    "train_data.targets # classes"
   ]
  },
  {
   "cell_type": "code",
   "execution_count": 14,
   "id": "380ee5b4",
   "metadata": {},
   "outputs": [],
   "source": [
    "from torch.utils.data import DataLoader\n",
    "\n",
    "loaders = {\n",
    "    'train' : DataLoader(train_data,\n",
    "                         batch_size=100,\n",
    "                         shuffle=True),\n",
    "    \n",
    "    'test' : DataLoader(test_data,\n",
    "                         batch_size=100,\n",
    "                         shuffle=True)\n",
    "}"
   ]
  },
  {
   "cell_type": "code",
   "execution_count": 15,
   "id": "4a3228c2",
   "metadata": {},
   "outputs": [
    {
     "data": {
      "text/plain": [
       "{'train': <torch.utils.data.dataloader.DataLoader at 0x24ff1e46310>,\n",
       " 'test': <torch.utils.data.dataloader.DataLoader at 0x24ff2debd50>}"
      ]
     },
     "execution_count": 15,
     "metadata": {},
     "output_type": "execute_result"
    }
   ],
   "source": [
    "loaders"
   ]
  },
  {
   "cell_type": "code",
   "execution_count": 16,
   "id": "9b864c5d",
   "metadata": {},
   "outputs": [],
   "source": [
    "# Model Building\n",
    "import torch.nn as nn\n",
    "import torch.nn.functional as F\n",
    "import torch.optim as optim \n",
    "\n",
    "class CNN(nn.Module):\n",
    "    # Deafults things\n",
    "    def __init__(self):\n",
    "        super(CNN,self).__init__() # this classes the constructer of the parent class\n",
    "        \n",
    "        # Defining The CNN\n",
    "        self.conv1 = nn.Conv2d(1,10,kernel_size=5)\n",
    "        self.conv2 = nn.Conv2d(10,20,kernel_size=5)\n",
    "        self.conv2_drop = nn.Dropout2d()\n",
    "        self.fc1 = nn.Linear(320,50) # dense layer\n",
    "        self.fc2 = nn.Linear(50,10) # last layer must have 10 because 10 classes\n",
    "    \n",
    "    # Acitvation Foward passing\n",
    "    def forward(self,x):\n",
    "        x = F.relu(F.max_pool2d(self.conv1(x),2))\n",
    "        x = F.relu(F.max_pool2d(self.conv2_drop(self.conv2(x)),2))\n",
    "        x = x.view(-1,320)\n",
    "        x = F.relu(self.fc1(x))\n",
    "        x = F.dropout(x,training=self.training)\n",
    "        x = self.fc2(x)\n",
    "        \n",
    "        return F.softmax(x)\n",
    "        "
   ]
  },
  {
   "cell_type": "code",
   "execution_count": 19,
   "id": "6a2d3eb4",
   "metadata": {},
   "outputs": [],
   "source": [
    "import torch\n",
    "\n",
    "device = torch.device('cuda' if torch.cuda.is_available() else 'cpu')\n",
    "\n",
    "model = CNN().to(device)\n",
    "\n",
    "optimizer =optim.Adam(model.parameters(),lr=0.001)\n",
    "\n",
    "loss_fn = nn.CrossEntropyLoss()\n",
    "\n",
    "def train(epoch):\n",
    "    model.train()\n",
    "    for batch_idx , (data,target) in enumerate(loaders['train']):\n",
    "        data,target = data.to(device), target.to(device)\n",
    "        optimizer.zero_grad() # before each batch we zero the grad of previous batch\n",
    "        output = model(data)\n",
    "        loss = loss_fn(output,target)\n",
    "        loss.backward()\n",
    "        optimizer.step()\n",
    "        if batch_idx % 20 == 0 :\n",
    "             print(f\"Train Epoch : {epoch} [{batch_idx * len(data)}/{len(loaders['train'].dataset)} ({100. * batch_idx / len(loaders['train']):.0f}%)\\t{loss.item():.6f}]\")\n"
   ]
  },
  {
   "cell_type": "code",
   "execution_count": 20,
   "id": "247de211",
   "metadata": {},
   "outputs": [],
   "source": [
    "def test():\n",
    "    model.eval()\n",
    "    \n",
    "    test_loss = 0\n",
    "    correct = 0\n",
    "    \n",
    "    with torch.no_grad():\n",
    "        for data, target in loaders['test']:\n",
    "            data, target = data.to(device), target.to(device)\n",
    "            output = model(data)\n",
    "            test_loss += loss_fn(output, target).item()\n",
    "            pred = output.argmax(dim=1, keepdim=True)\n",
    "            correct += pred.eq(target.view_as(pred)).sum().item()\n",
    "    \n",
    "    test_loss /= len(loaders['test'].dataset)\n",
    "    print(f\"\\nTest set: Average loss: {test_loss:.4f}, Accuracy: {correct}/{len(loaders['test'].dataset)} ({100. * correct / len(loaders['test'].dataset):.0f}%)\\n\")\n"
   ]
  },
  {
   "cell_type": "code",
   "execution_count": 22,
   "id": "d0f51dbc",
   "metadata": {},
   "outputs": [
    {
     "name": "stderr",
     "output_type": "stream",
     "text": [
      "C:\\Users\\mustafa\\AppData\\Local\\Temp\\ipykernel_4436\\929522570.py:27: UserWarning: Implicit dimension choice for softmax has been deprecated. Change the call to include dim=X as an argument.\n",
      "  return F.softmax(x)\n"
     ]
    },
    {
     "name": "stdout",
     "output_type": "stream",
     "text": [
      "Train Epoch : 1 [0/60000 (0%)\t1.546579]\n",
      "Train Epoch : 1 [2000/60000 (3%)\t1.552494]\n",
      "Train Epoch : 1 [4000/60000 (7%)\t1.579642]\n",
      "Train Epoch : 1 [6000/60000 (10%)\t1.574430]\n",
      "Train Epoch : 1 [8000/60000 (13%)\t1.550306]\n",
      "Train Epoch : 1 [10000/60000 (17%)\t1.561952]\n",
      "Train Epoch : 1 [12000/60000 (20%)\t1.634714]\n",
      "Train Epoch : 1 [14000/60000 (23%)\t1.609441]\n",
      "Train Epoch : 1 [16000/60000 (27%)\t1.598141]\n",
      "Train Epoch : 1 [18000/60000 (30%)\t1.580274]\n",
      "Train Epoch : 1 [20000/60000 (33%)\t1.593119]\n",
      "Train Epoch : 1 [22000/60000 (37%)\t1.543151]\n",
      "Train Epoch : 1 [24000/60000 (40%)\t1.579419]\n",
      "Train Epoch : 1 [26000/60000 (43%)\t1.600644]\n",
      "Train Epoch : 1 [28000/60000 (47%)\t1.578398]\n",
      "Train Epoch : 1 [30000/60000 (50%)\t1.591445]\n",
      "Train Epoch : 1 [32000/60000 (53%)\t1.550393]\n",
      "Train Epoch : 1 [34000/60000 (57%)\t1.538022]\n",
      "Train Epoch : 1 [36000/60000 (60%)\t1.579622]\n",
      "Train Epoch : 1 [38000/60000 (63%)\t1.544626]\n",
      "Train Epoch : 1 [40000/60000 (67%)\t1.567200]\n",
      "Train Epoch : 1 [42000/60000 (70%)\t1.562359]\n",
      "Train Epoch : 1 [44000/60000 (73%)\t1.583744]\n",
      "Train Epoch : 1 [46000/60000 (77%)\t1.580801]\n",
      "Train Epoch : 1 [48000/60000 (80%)\t1.537235]\n",
      "Train Epoch : 1 [50000/60000 (83%)\t1.604109]\n",
      "Train Epoch : 1 [52000/60000 (87%)\t1.570813]\n",
      "Train Epoch : 1 [54000/60000 (90%)\t1.542389]\n",
      "Train Epoch : 1 [56000/60000 (93%)\t1.534763]\n",
      "Train Epoch : 1 [58000/60000 (97%)\t1.549709]\n",
      "\n",
      "Test set: Average loss: 0.0151, Accuracy: 9528/10000 (95%)\n",
      "\n",
      "Train Epoch : 2 [0/60000 (0%)\t1.557475]\n",
      "Train Epoch : 2 [2000/60000 (3%)\t1.570591]\n",
      "Train Epoch : 2 [4000/60000 (7%)\t1.542908]\n",
      "Train Epoch : 2 [6000/60000 (10%)\t1.614843]\n",
      "Train Epoch : 2 [8000/60000 (13%)\t1.554318]\n",
      "Train Epoch : 2 [10000/60000 (17%)\t1.522259]\n",
      "Train Epoch : 2 [12000/60000 (20%)\t1.557887]\n",
      "Train Epoch : 2 [14000/60000 (23%)\t1.502567]\n",
      "Train Epoch : 2 [16000/60000 (27%)\t1.534624]\n",
      "Train Epoch : 2 [18000/60000 (30%)\t1.548490]\n",
      "Train Epoch : 2 [20000/60000 (33%)\t1.547800]\n",
      "Train Epoch : 2 [22000/60000 (37%)\t1.583719]\n",
      "Train Epoch : 2 [24000/60000 (40%)\t1.588770]\n",
      "Train Epoch : 2 [26000/60000 (43%)\t1.575179]\n",
      "Train Epoch : 2 [28000/60000 (47%)\t1.565953]\n",
      "Train Epoch : 2 [30000/60000 (50%)\t1.594356]\n",
      "Train Epoch : 2 [32000/60000 (53%)\t1.550290]\n",
      "Train Epoch : 2 [34000/60000 (57%)\t1.547890]\n",
      "Train Epoch : 2 [36000/60000 (60%)\t1.594539]\n",
      "Train Epoch : 2 [38000/60000 (63%)\t1.512984]\n",
      "Train Epoch : 2 [40000/60000 (67%)\t1.564162]\n",
      "Train Epoch : 2 [42000/60000 (70%)\t1.539557]\n",
      "Train Epoch : 2 [44000/60000 (73%)\t1.537320]\n",
      "Train Epoch : 2 [46000/60000 (77%)\t1.548141]\n",
      "Train Epoch : 2 [48000/60000 (80%)\t1.573703]\n",
      "Train Epoch : 2 [50000/60000 (83%)\t1.611089]\n",
      "Train Epoch : 2 [52000/60000 (87%)\t1.512000]\n",
      "Train Epoch : 2 [54000/60000 (90%)\t1.555257]\n",
      "Train Epoch : 2 [56000/60000 (93%)\t1.543146]\n",
      "Train Epoch : 2 [58000/60000 (97%)\t1.568367]\n",
      "\n",
      "Test set: Average loss: 0.0150, Accuracy: 9574/10000 (96%)\n",
      "\n",
      "Train Epoch : 3 [0/60000 (0%)\t1.585646]\n",
      "Train Epoch : 3 [2000/60000 (3%)\t1.529869]\n",
      "Train Epoch : 3 [4000/60000 (7%)\t1.584978]\n",
      "Train Epoch : 3 [6000/60000 (10%)\t1.524508]\n",
      "Train Epoch : 3 [8000/60000 (13%)\t1.586776]\n",
      "Train Epoch : 3 [10000/60000 (17%)\t1.565015]\n",
      "Train Epoch : 3 [12000/60000 (20%)\t1.529386]\n",
      "Train Epoch : 3 [14000/60000 (23%)\t1.547817]\n",
      "Train Epoch : 3 [16000/60000 (27%)\t1.556293]\n",
      "Train Epoch : 3 [18000/60000 (30%)\t1.533305]\n",
      "Train Epoch : 3 [20000/60000 (33%)\t1.542572]\n",
      "Train Epoch : 3 [22000/60000 (37%)\t1.557258]\n",
      "Train Epoch : 3 [24000/60000 (40%)\t1.615623]\n",
      "Train Epoch : 3 [26000/60000 (43%)\t1.569255]\n",
      "Train Epoch : 3 [28000/60000 (47%)\t1.543857]\n",
      "Train Epoch : 3 [30000/60000 (50%)\t1.515246]\n",
      "Train Epoch : 3 [32000/60000 (53%)\t1.563464]\n",
      "Train Epoch : 3 [34000/60000 (57%)\t1.581999]\n",
      "Train Epoch : 3 [36000/60000 (60%)\t1.589516]\n",
      "Train Epoch : 3 [38000/60000 (63%)\t1.552239]\n",
      "Train Epoch : 3 [40000/60000 (67%)\t1.544204]\n",
      "Train Epoch : 3 [42000/60000 (70%)\t1.531776]\n",
      "Train Epoch : 3 [44000/60000 (73%)\t1.594555]\n",
      "Train Epoch : 3 [46000/60000 (77%)\t1.540511]\n",
      "Train Epoch : 3 [48000/60000 (80%)\t1.567683]\n",
      "Train Epoch : 3 [50000/60000 (83%)\t1.556371]\n",
      "Train Epoch : 3 [52000/60000 (87%)\t1.552142]\n",
      "Train Epoch : 3 [54000/60000 (90%)\t1.567151]\n",
      "Train Epoch : 3 [56000/60000 (93%)\t1.568068]\n",
      "Train Epoch : 3 [58000/60000 (97%)\t1.514337]\n",
      "\n",
      "Test set: Average loss: 0.0150, Accuracy: 9602/10000 (96%)\n",
      "\n",
      "Train Epoch : 4 [0/60000 (0%)\t1.555908]\n",
      "Train Epoch : 4 [2000/60000 (3%)\t1.564003]\n",
      "Train Epoch : 4 [4000/60000 (7%)\t1.555502]\n",
      "Train Epoch : 4 [6000/60000 (10%)\t1.515741]\n",
      "Train Epoch : 4 [8000/60000 (13%)\t1.536454]\n",
      "Train Epoch : 4 [10000/60000 (17%)\t1.563767]\n",
      "Train Epoch : 4 [12000/60000 (20%)\t1.564811]\n",
      "Train Epoch : 4 [14000/60000 (23%)\t1.529210]\n",
      "Train Epoch : 4 [16000/60000 (27%)\t1.529094]\n",
      "Train Epoch : 4 [18000/60000 (30%)\t1.558115]\n",
      "Train Epoch : 4 [20000/60000 (33%)\t1.562378]\n",
      "Train Epoch : 4 [22000/60000 (37%)\t1.561252]\n",
      "Train Epoch : 4 [24000/60000 (40%)\t1.567559]\n",
      "Train Epoch : 4 [26000/60000 (43%)\t1.578914]\n",
      "Train Epoch : 4 [28000/60000 (47%)\t1.555038]\n",
      "Train Epoch : 4 [30000/60000 (50%)\t1.544578]\n",
      "Train Epoch : 4 [32000/60000 (53%)\t1.561935]\n",
      "Train Epoch : 4 [34000/60000 (57%)\t1.528858]\n",
      "Train Epoch : 4 [36000/60000 (60%)\t1.573209]\n",
      "Train Epoch : 4 [38000/60000 (63%)\t1.566662]\n",
      "Train Epoch : 4 [40000/60000 (67%)\t1.542933]\n",
      "Train Epoch : 4 [42000/60000 (70%)\t1.572707]\n",
      "Train Epoch : 4 [44000/60000 (73%)\t1.596027]\n",
      "Train Epoch : 4 [46000/60000 (77%)\t1.576161]\n",
      "Train Epoch : 4 [48000/60000 (80%)\t1.539943]\n",
      "Train Epoch : 4 [50000/60000 (83%)\t1.527638]\n",
      "Train Epoch : 4 [52000/60000 (87%)\t1.576862]\n",
      "Train Epoch : 4 [54000/60000 (90%)\t1.518985]\n",
      "Train Epoch : 4 [56000/60000 (93%)\t1.542979]\n",
      "Train Epoch : 4 [58000/60000 (97%)\t1.528188]\n",
      "\n",
      "Test set: Average loss: 0.0150, Accuracy: 9630/10000 (96%)\n",
      "\n"
     ]
    }
   ],
   "source": [
    "for epoch in range(1,5):\n",
    "    train(epoch)\n",
    "    test()"
   ]
  },
  {
   "cell_type": "code",
   "execution_count": 28,
   "id": "4fd38480",
   "metadata": {},
   "outputs": [
    {
     "name": "stdout",
     "output_type": "stream",
     "text": [
      "Prediction: 0\n"
     ]
    },
    {
     "name": "stderr",
     "output_type": "stream",
     "text": [
      "C:\\Users\\mustafa\\AppData\\Local\\Temp\\ipykernel_4436\\929522570.py:27: UserWarning: Implicit dimension choice for softmax has been deprecated. Change the call to include dim=X as an argument.\n",
      "  return F.softmax(x)\n"
     ]
    },
    {
     "data": {
      "image/png": "[encoded data removed]",
      "text/plain": [
       "<Figure size 640x480 with 1 Axes>"
      ]
     },
     "metadata": {},
     "output_type": "display_data"
    }
   ],
   "source": [
    "import matplotlib.pyplot as plt\n",
    "\n",
    "model.eval()\n",
    "\n",
    "data,target = test_data[3]\n",
    "data = data.unsqueeze(0).to(device)\n",
    "\n",
    "\n",
    "output = model(data)\n",
    "prediction = output.argmax(dim=1,keepdim=True).item()\n",
    "\n",
    "print(f\"Prediction: {prediction}\")\n",
    "\n",
    "image = data.squeeze(0).squeeze(0).cpu().numpy()\n",
    "\n",
    "plt.imshow(image,cmap='gray')\n",
    "plt.show()"
   ]
  },
  {
   "cell_type": "code",
   "execution_count": null,
   "id": "3ee99d13",
   "metadata": {},
   "outputs": [],
   "source": []
  }
 ],
 "metadata": {
  "kernelspec": {
   "display_name": "Python 3 (ipykernel)",
   "language": "python",
   "name": "python3"
  },
  "language_info": {
   "codemirror_mode": {
    "name": "ipython",
    "version": 3
   },
   "file_extension": ".py",
   "mimetype": "text/x-python",
   "name": "python",
   "nbconvert_exporter": "python",
   "pygments_lexer": "ipython3",
   "version": "3.11.9"
  }
 },
 "nbformat": 4,
 "nbformat_minor": 5
}
