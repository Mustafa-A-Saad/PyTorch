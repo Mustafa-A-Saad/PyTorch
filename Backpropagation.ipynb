{
 "cells": [
  {
   "cell_type": "code",
   "execution_count": 2,
   "id": "f5a676a3",
   "metadata": {},
   "outputs": [],
   "source": [
    "import torch"
   ]
  },
  {
   "cell_type": "code",
   "execution_count": 8,
   "id": "f4f129cc",
   "metadata": {},
   "outputs": [
    {
     "name": "stdout",
     "output_type": "stream",
     "text": [
      "tensor(1.)\n",
      "tensor(2.)\n"
     ]
    }
   ],
   "source": [
    "x = torch.tensor(1.0)\n",
    "y= torch.tensor(2.0)\n",
    "print(x)\n",
    "print(y)"
   ]
  },
  {
   "cell_type": "code",
   "execution_count": 9,
   "id": "d861bfb7",
   "metadata": {},
   "outputs": [
    {
     "name": "stdout",
     "output_type": "stream",
     "text": [
      "tensor(1., requires_grad=True)\n"
     ]
    }
   ],
   "source": [
    "w = torch.tensor(1.0,requires_grad=True)\n",
    "print(w)"
   ]
  },
  {
   "cell_type": "code",
   "execution_count": 10,
   "id": "45e64f8b",
   "metadata": {},
   "outputs": [
    {
     "name": "stdout",
     "output_type": "stream",
     "text": [
      "tensor(1., grad_fn=<MulBackward0>)\n",
      "tensor(1., grad_fn=<PowBackward0>)\n"
     ]
    }
   ],
   "source": [
    "# forward pass and compute the loss\n",
    "\n",
    "y_hat  = w*x\n",
    "print(y_hat)\n",
    "loss = (y_hat - y)**2\n",
    "print(loss)"
   ]
  },
  {
   "cell_type": "code",
   "execution_count": 7,
   "id": "e4fc86b2",
   "metadata": {},
   "outputs": [
    {
     "name": "stdout",
     "output_type": "stream",
     "text": [
      "tensor(-2.)\n"
     ]
    }
   ],
   "source": [
    "# backward pass\n",
    "loss.backward()\n",
    "print(w.grad)\n",
    "\n",
    "# Backward Pass: loss.backward() computes the gradients of the loss function with respect to the tensors that have requires_grad=True. \n",
    "# In your case, w is the only tensor with requires_grad=True. This operation computes how much each parameter (in this case, just w) contributed to the loss.\n",
    "# Gradient Calculation: These gradients are computed using the chain rule of calculus. \n",
    "# It starts from the loss tensor and recursively computes the gradients of each dependent variable (here, just w) with respect to the loss.\n",
    "# Accumulation: The computed gradients are accumulated in the .grad attribute of the respective tensors. \n",
    "# In your case, after loss.backward(), w.grad will contain the gradient of the loss with respect to w.\n",
    "\n",
    "\n",
    "# update weights and next forward and backwards pass"
   ]
  }
 ],
 "metadata": {
  "kernelspec": {
   "display_name": "Python 3 (ipykernel)",
   "language": "python",
   "name": "python3"
  },
  "language_info": {
   "codemirror_mode": {
    "name": "ipython",
    "version": 3
   },
   "file_extension": ".py",
   "mimetype": "text/x-python",
   "name": "python",
   "nbconvert_exporter": "python",
   "pygments_lexer": "ipython3",
   "version": "3.11.9"
  }
 },
 "nbformat": 4,
 "nbformat_minor": 5
}
