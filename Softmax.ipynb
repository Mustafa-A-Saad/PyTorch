{
 "cells": [
  {
   "cell_type": "code",
   "execution_count": 2,
   "id": "2d455dcb",
   "metadata": {},
   "outputs": [],
   "source": [
    "import torch\n",
    "import torch.nn as nn\n",
    "import numpy as np"
   ]
  },
  {
   "cell_type": "code",
   "execution_count": 3,
   "id": "03a6b68d",
   "metadata": {},
   "outputs": [],
   "source": [
    "def softmax(x):\n",
    "    return np.exp(x)/np.sum(np.exp(x),axis=0)"
   ]
  },
  {
   "cell_type": "code",
   "execution_count": 4,
   "id": "6a64cdaf",
   "metadata": {},
   "outputs": [
    {
     "name": "stdout",
     "output_type": "stream",
     "text": [
      "softmax numpy: [0.65900114 0.24243297 0.09856589]\n"
     ]
    }
   ],
   "source": [
    "x = np.array([2.0,1.0,0.1])\n",
    "outputs = softmax(x) # softmax is normalzing probabilties from 0-1\n",
    "print(\"softmax numpy:\",outputs)"
   ]
  },
  {
   "cell_type": "code",
   "execution_count": 5,
   "id": "a1a0dba1",
   "metadata": {},
   "outputs": [
    {
     "name": "stdout",
     "output_type": "stream",
     "text": [
      "tensor([0.6590, 0.2424, 0.0986])\n"
     ]
    }
   ],
   "source": [
    "x = torch.tensor([2.0,1.0,0.1])\n",
    "outputs = torch.softmax(x,dim=0)\n",
    "print(outputs)"
   ]
  },
  {
   "cell_type": "code",
   "execution_count": 8,
   "id": "54f0d147",
   "metadata": {},
   "outputs": [
    {
     "name": "stdout",
     "output_type": "stream",
     "text": [
      "Loss1 numpy: 0.3567\n",
      "Loss2 numpy: 2.3026\n"
     ]
    }
   ],
   "source": [
    "# Cross entropy\n",
    "def cross_entropy(actual,predicted):\n",
    "    loss = -np.sum(actual*np.log(predicted))\n",
    "    return loss\n",
    "\n",
    "# Y must be one hot encoded\n",
    "# class 0 : [1 0 0]\n",
    "# class 1 : [0 1 0]\n",
    "# class 2 : [0 0 1]\n",
    "\n",
    "y = np.array([1,0,0])\n",
    "\n",
    "# y_pred has probabilities\n",
    "\n",
    "y_pred_good = np.array([0.7,0.2,0.1])\n",
    "y_pred_bad = np.array([0.1,0.3,0.6])\n",
    "l1 = cross_entropy(y, y_pred_good)\n",
    "l2 = cross_entropy(y, y_pred_bad)\n",
    "print(f'Loss1 numpy: {l1:.4f}')\n",
    "print(f'Loss2 numpy: {l2:.4f}')\n"
   ]
  },
  {
   "cell_type": "code",
   "execution_count": 10,
   "id": "f08b9b64",
   "metadata": {},
   "outputs": [
    {
     "name": "stdout",
     "output_type": "stream",
     "text": [
      "Loss 1 Good Predictions 0.4170299470424652\n",
      "Loss 2 Bad Predictions 1.840616226196289\n"
     ]
    }
   ],
   "source": [
    "loss = nn.CrossEntropyLoss() # auto applies nn.LogSoftmax + nn.NLLLoss , so don't add the softmax layer , don't one-hot Y , y-hat is raw score\n",
    "\n",
    "y = torch.tensor([0])\n",
    "\n",
    "# nsamples*nclasses = 1*3\n",
    "y_pred_good = torch.tensor([[2.0,1.0,0.1]]) # raw values\n",
    "y_pred_bad = torch.tensor([[0.5,2.0,0.3]]) \n",
    "\n",
    "l1 = loss(y_pred_good,y)\n",
    "l2 = loss(y_pred_bad,y)\n",
    "\n",
    "print(f\"Loss 1 Good Predictions {l1.item()}\")\n",
    "print(f\"Loss 2 Bad Predictions {l2.item()}\")\n"
   ]
  },
  {
   "cell_type": "code",
   "execution_count": 12,
   "id": "14180231",
   "metadata": {},
   "outputs": [
    {
     "name": "stdout",
     "output_type": "stream",
     "text": [
      "tensor([0])\n",
      "tensor([1])\n"
     ]
    }
   ],
   "source": [
    "_,predcitions1 = torch.max(y_pred_good,1)\n",
    "_,predcitions2 = torch.max(y_pred_bad,1)\n",
    "print(predcitions1) # prediction class\n",
    "print(predcitions2) # prediction class"
   ]
  },
  {
   "cell_type": "code",
   "execution_count": 15,
   "id": "9a9d4de2",
   "metadata": {},
   "outputs": [
    {
     "name": "stdout",
     "output_type": "stream",
     "text": [
      "Loss 1 Good Predictions 0.3018244206905365\n",
      "Loss 2 Bad Predictions 1.6241613626480103\n",
      "tensor([2, 0, 1])\n",
      "tensor([0, 2, 1])\n"
     ]
    }
   ],
   "source": [
    "# increase samples\n",
    "\n",
    "# 3 samples\n",
    "\n",
    "y = torch.tensor([2,0,1]) # True Y values\n",
    "\n",
    "#nsamples * nclass = 3x3\n",
    "\n",
    "y_pred_good = torch.tensor([ [0.1,1.0,2.1],[2.0,1.0,0.1],[0.1,3.0,0.1] ]) # raw values\n",
    "y_pred_bad = torch.tensor([ [2.1,1.0,0.1], [0.1,1.0,2.1] , [0.1,3.0,0.1] ])\n",
    "\n",
    "l1 = loss(y_pred_good , y)\n",
    "l2 = loss(y_pred_bad, y )\n",
    "\n",
    "print(f\"Loss 1 Good Predictions {l1.item()}\")\n",
    "print(f\"Loss 2 Bad Predictions {l2.item()}\")\n",
    "\n",
    "_,predcitions1 = torch.max(y_pred_good,1)\n",
    "_,predcitions2 = torch.max(y_pred_bad,1)\n",
    "print(predcitions1) # prediction class\n",
    "print(predcitions2) # prediction class"
   ]
  },
  {
   "cell_type": "code",
   "execution_count": 16,
   "id": "f22c01e0",
   "metadata": {},
   "outputs": [],
   "source": [
    "# Neural Net with Softmax Mutiple Classes\n",
    "\n",
    "class NeuralNet2(nn.Module):\n",
    "    def __init__(self,input_size,hidden_size,num_classes):\n",
    "        super(NeuralNet2,self).__init__()\n",
    "        self.linear1 = nn.Linear(input_size,hidden_size) # Input Layer\n",
    "        self.relu = nn.ReLU() # activation function layer\n",
    "        self.linear2 = nn.Linear(hidden_size,num_classes) # output Layer\n",
    "        \n",
    "    def forward(self,x):\n",
    "        # Applies layers\n",
    "        out = self.linear1(x)\n",
    "        out = self.relu(out)\n",
    "        out = self.linear2(out)\n",
    "        # no softmax because we use nn.CrossEntropyLoss()\n",
    "        return out\n",
    "\n",
    "model = NeuralNet2(input_size=28*28,hidden_size=5,num_classes=3)\n",
    "criterion = nn.CrossEntropyLoss() # applies softmax auto"
   ]
  },
  {
   "cell_type": "code",
   "execution_count": 18,
   "id": "c631571c",
   "metadata": {},
   "outputs": [],
   "source": [
    "# Neural Net with Sigmoid Binary Classifcation\n",
    "\n",
    "class NeuralNet1(nn.Module):\n",
    "    def __init__(self,input_size,hidden_size):\n",
    "        super(NeuralNet1,self).__init__()\n",
    "        self.linear1 = nn.Linear(input_size,hidden_size) # Input Layer\n",
    "        self.relu = nn.ReLU() # activation function layer\n",
    "        self.linear2 = nn.Linear(hidden_size,1) # output Layer # 1 becuase its a binary classifcation\n",
    "        \n",
    "    def forward(self,x):\n",
    "        # Applies layers\n",
    "        out = self.linear1(x)\n",
    "        out = self.relu(out)\n",
    "        out = self.linear2(out)\n",
    "        # no softmax because we use nn.CrossEntropyLoss()\n",
    "        y_pred = torch.sigmoid(out)\n",
    "        return y_pred\n",
    "\n",
    "model = NeuralNet1(input_size=28*28,hidden_size=5)\n",
    "criterion = nn.BCELoss() # binaryCrossenTropy"
   ]
  },
  {
   "cell_type": "code",
   "execution_count": null,
   "id": "e27b9c08",
   "metadata": {},
   "outputs": [],
   "source": []
  }
 ],
 "metadata": {
  "kernelspec": {
   "display_name": "Python 3 (ipykernel)",
   "language": "python",
   "name": "python3"
  },
  "language_info": {
   "codemirror_mode": {
    "name": "ipython",
    "version": 3
   },
   "file_extension": ".py",
   "mimetype": "text/x-python",
   "name": "python",
   "nbconvert_exporter": "python",
   "pygments_lexer": "ipython3",
   "version": "3.11.9"
  }
 },
 "nbformat": 4,
 "nbformat_minor": 5
}
