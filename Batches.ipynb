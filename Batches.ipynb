{
 "cells": [
  {
   "cell_type": "raw",
   "id": "f364365e",
   "metadata": {},
   "source": [
    "# epoch = one forward and backward pass of ALL training samples\n",
    "# batch_size = number of training samples used in one forward/backward pass\n",
    "# number of iterations = number of passes, each pass (forward+backward) using [batch_size] number of sampes\n",
    "# e.g : 100 samples, batch_size=20 -> 100/20=5 iterations for 1 epoch"
   ]
  },
  {
   "cell_type": "code",
   "execution_count": 18,
   "id": "5a8484ad",
   "metadata": {},
   "outputs": [],
   "source": [
    "import torch\n",
    "import torchvision\n",
    "from torch.utils.data import Dataset,DataLoader\n",
    "import numpy as np\n",
    "import math"
   ]
  },
  {
   "cell_type": "code",
   "execution_count": 19,
   "id": "c05effcd",
   "metadata": {},
   "outputs": [],
   "source": [
    "class WineDataset(Dataset):\n",
    "    def __init__(self):\n",
    "        # Data loading\n",
    "        xy = np.loadtxt('Excels/wine.csv',delimiter=',',dtype=np.float32,skiprows=1)\n",
    "        self.x = torch.from_numpy(xy[:,1:])\n",
    "        self.y = torch.from_numpy(xy[:,[0]]) # n_samples , 1\n",
    "        self.n_samples = xy.shape[0] \n",
    "        \n",
    "    def __getitem__(self,index):\n",
    "        # dataset[0]\n",
    "        return self.x[index] , self.y[index]\n",
    "    def __len__(self):\n",
    "        # len(dataset)\n",
    "        return self.n_samples"
   ]
  },
  {
   "cell_type": "code",
   "execution_count": 20,
   "id": "818cc8ec",
   "metadata": {},
   "outputs": [],
   "source": [
    "dataset = WineDataset()"
   ]
  },
  {
   "cell_type": "code",
   "execution_count": 21,
   "id": "ac9dfef6",
   "metadata": {},
   "outputs": [
    {
     "name": "stdout",
     "output_type": "stream",
     "text": [
      "tensor([1.4230e+01, 1.7100e+00, 2.4300e+00, 1.5600e+01, 1.2700e+02, 2.8000e+00,\n",
      "        3.0600e+00, 2.8000e-01, 2.2900e+00, 5.6400e+00, 1.0400e+00, 3.9200e+00,\n",
      "        1.0650e+03]) tensor([1.])\n"
     ]
    }
   ],
   "source": [
    "first_data = dataset[0]\n",
    "features,labels = first_data\n",
    "print(features,labels)"
   ]
  },
  {
   "cell_type": "code",
   "execution_count": 22,
   "id": "36fab924",
   "metadata": {},
   "outputs": [],
   "source": [
    "dataloader = DataLoader(dataset=dataset,batch_size=4,shuffle=True)"
   ]
  },
  {
   "cell_type": "code",
   "execution_count": 23,
   "id": "20cde1ac",
   "metadata": {},
   "outputs": [
    {
     "name": "stdout",
     "output_type": "stream",
     "text": [
      "tensor([[1.4380e+01, 1.8700e+00, 2.3800e+00, 1.2000e+01, 1.0200e+02, 3.3000e+00,\n",
      "         3.6400e+00, 2.9000e-01, 2.9600e+00, 7.5000e+00, 1.2000e+00, 3.0000e+00,\n",
      "         1.5470e+03],\n",
      "        [1.4020e+01, 1.6800e+00, 2.2100e+00, 1.6000e+01, 9.6000e+01, 2.6500e+00,\n",
      "         2.3300e+00, 2.6000e-01, 1.9800e+00, 4.7000e+00, 1.0400e+00, 3.5900e+00,\n",
      "         1.0350e+03],\n",
      "        [1.2420e+01, 2.5500e+00, 2.2700e+00, 2.2000e+01, 9.0000e+01, 1.6800e+00,\n",
      "         1.8400e+00, 6.6000e-01, 1.4200e+00, 2.7000e+00, 8.6000e-01, 3.3000e+00,\n",
      "         3.1500e+02],\n",
      "        [1.3110e+01, 1.9000e+00, 2.7500e+00, 2.5500e+01, 1.1600e+02, 2.2000e+00,\n",
      "         1.2800e+00, 2.6000e-01, 1.5600e+00, 7.1000e+00, 6.1000e-01, 1.3300e+00,\n",
      "         4.2500e+02]]) tensor([[1.],\n",
      "        [1.],\n",
      "        [2.],\n",
      "        [3.]])\n"
     ]
    }
   ],
   "source": [
    "dataiter = iter(dataloader)\n",
    "data = next(dataiter)\n",
    "features, labels = data\n",
    "print(features, labels)"
   ]
  },
  {
   "cell_type": "code",
   "execution_count": 26,
   "id": "bfa581dc",
   "metadata": {},
   "outputs": [
    {
     "name": "stdout",
     "output_type": "stream",
     "text": [
      "178 45\n",
      "epoch 1/2,step 5/45,inputs torch.Size([4, 13])\n",
      "epoch 1/2,step 10/45,inputs torch.Size([4, 13])\n",
      "epoch 1/2,step 15/45,inputs torch.Size([4, 13])\n",
      "epoch 1/2,step 20/45,inputs torch.Size([4, 13])\n",
      "epoch 1/2,step 25/45,inputs torch.Size([4, 13])\n",
      "epoch 1/2,step 30/45,inputs torch.Size([4, 13])\n",
      "epoch 1/2,step 35/45,inputs torch.Size([4, 13])\n",
      "epoch 1/2,step 40/45,inputs torch.Size([4, 13])\n",
      "epoch 1/2,step 45/45,inputs torch.Size([2, 13])\n",
      "epoch 2/2,step 5/45,inputs torch.Size([4, 13])\n",
      "epoch 2/2,step 10/45,inputs torch.Size([4, 13])\n",
      "epoch 2/2,step 15/45,inputs torch.Size([4, 13])\n",
      "epoch 2/2,step 20/45,inputs torch.Size([4, 13])\n",
      "epoch 2/2,step 25/45,inputs torch.Size([4, 13])\n",
      "epoch 2/2,step 30/45,inputs torch.Size([4, 13])\n",
      "epoch 2/2,step 35/45,inputs torch.Size([4, 13])\n",
      "epoch 2/2,step 40/45,inputs torch.Size([4, 13])\n",
      "epoch 2/2,step 45/45,inputs torch.Size([2, 13])\n"
     ]
    }
   ],
   "source": [
    "# Trainning loop\n",
    "\n",
    "EPOCHS = 2\n",
    "total_samples = len(dataset)\n",
    "n_iterations = math.ceil(total_samples/4)\n",
    "print(total_samples,n_iterations)\n",
    "\n",
    "for epoch in range(EPOCHS):\n",
    "    for index,(inputs,labels) in enumerate(dataloader):\n",
    "        #forward backward \n",
    "        if (index+1) % 5 ==0:\n",
    "            print(f\"epoch {epoch+1}/{EPOCHS},step {index+1}/{n_iterations},inputs {inputs.shape}\")"
   ]
  },
  {
   "cell_type": "code",
   "execution_count": null,
   "id": "cab8f3fc",
   "metadata": {},
   "outputs": [],
   "source": []
  }
 ],
 "metadata": {
  "kernelspec": {
   "display_name": "Python 3 (ipykernel)",
   "language": "python",
   "name": "python3"
  },
  "language_info": {
   "codemirror_mode": {
    "name": "ipython",
    "version": 3
   },
   "file_extension": ".py",
   "mimetype": "text/x-python",
   "name": "python",
   "nbconvert_exporter": "python",
   "pygments_lexer": "ipython3",
   "version": "3.11.9"
  }
 },
 "nbformat": 4,
 "nbformat_minor": 5
}
